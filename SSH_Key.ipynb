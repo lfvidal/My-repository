{
  "nbformat": 4,
  "nbformat_minor": 0,
  "metadata": {
    "colab": {
      "provenance": [],
      "authorship_tag": "ABX9TyOaFQcOyQ0KfDfkSRib8kk5",
      "include_colab_link": true
    },
    "kernelspec": {
      "name": "python3",
      "display_name": "Python 3"
    },
    "language_info": {
      "name": "python"
    }
  },
  "cells": [
    {
      "cell_type": "markdown",
      "metadata": {
        "id": "view-in-github",
        "colab_type": "text"
      },
      "source": [
        "<a href=\"https://colab.research.google.com/github/lfvidal/My-repository/blob/main/SSH_Key.ipynb\" target=\"_parent\"><img src=\"https://colab.research.google.com/assets/colab-badge.svg\" alt=\"Open In Colab\"/></a>"
      ]
    },
    {
      "cell_type": "code",
      "execution_count": null,
      "metadata": {
        "colab": {
          "base_uri": "https://localhost:8080/"
        },
        "id": "D9-nAF1CPzxb",
        "outputId": "d4263f4b-9a83-4363-b0cd-ec265f849d55"
      },
      "outputs": [
        {
          "output_type": "stream",
          "name": "stdout",
          "text": [
            "ssh-rsa AAAAB3NzaC1yc2EAAAADAQABAAACAQCVetTcNXqN2S/y7zCWjMbmvFbOQIGZgOXNJRJxT5rGCQ5zqkRPgEY+0/8PckDA6FGh7ukcPfNzTPFvwBF+VzJwzS13AFS3MaFPTS4x/vmg8QN8S/RsspdXxztq673fmzjQLj2elOftsY5TqAZEbWslscHgPZHQVbPmZPXDMWv8z97/etGRXfHyM105ZXHud8e/8Bj23gFPq1dVu/CuAgOnwp8eR9CrWZuAvznSN+dp0vlm5L9l9BlNt59Jx/UnK++ZopiyGjmjr1k3Co6SS+MWOszwmnodH/I/gb4EXCf6QWcDU/cCCoNvzhUiAh47eG0Mo1wNYFg316ABbZGeaWVbvNGKmXGq9MHXcbUYVejpxeHjVcagoHB+xz40LnfinyLmixYhyHYmY6IzP/5CVjfeHG6D8vFtVUUOI/Eyk50GzzHbyZl2oy5fLIHXTb6PmNxLHAKoN6wUdR9uzoSFAjo2/aQRT19Ob51lWlJNhXaBpIYMnWlq7eGLdz+fZmxHd2iEnkXsKv3t/GSGDJr/fvg4Vjt2T4bYerg4Lsw/yvXjpHjgyXqw5n1K4AWEIoCNWHwKp7LxHFs9G+3UaGpElbAJL27UaFcsewEOM6oPxlRk+nc2NRzXJFpKZCO2qw0qFhAu6FOoYPOwhY60uzt6qlR18afbG4K2cFLBEYHUEtKlcQ== root@d00e6b558895\n"
          ]
        }
      ],
      "source": [
        "!ssh-keygen -t rsa -b 4096 -f ~/.ssh/id_rsa -q -N \"\"\n",
        "!cat ~/.ssh/id_rsa.pub\n"
      ]
    },
    {
      "cell_type": "code",
      "source": [
        "!wget -q https://github.com/cloudflare/cloudflared/releases/latest/download/cloudflared-linux-amd64 -O cloudflared\n",
        "!chmod +x cloudflared\n",
        "!mv cloudflared /usr/local/bin/\n",
        "!cloudflared --version\n",
        "\n",
        "\n",
        "!jupyter notebook --NotebookApp.allow_origin='*' --port=8888 --no-browser --ip=0.0.0.0\n",
        "!cloudflared tunnel --url http://localhost:8888 --logfile cloudflared.log --loglevel debug"
      ],
      "metadata": {
        "colab": {
          "base_uri": "https://localhost:8080/"
        },
        "id": "KXGMYwN8P4e_",
        "outputId": "6ee24c0f-f007-4393-9dc9-e7965a01e0e6"
      },
      "execution_count": 8,
      "outputs": [
        {
          "output_type": "stream",
          "name": "stdout",
          "text": [
            "cloudflared version 2025.1.0 (built 2025-01-07-1220 UTC)\n",
            "|DEBUG|Paths used for configuration of jupyter_notebook_config: \n",
            "    \t/etc/jupyter/jupyter_notebook_config.json\n",
            "|DEBUG|Paths used for configuration of jupyter_notebook_config: \n",
            "    \t/usr/local/etc/jupyter/jupyter_notebook_config.d/ipyparallel.json\n",
            "    \t/usr/local/etc/jupyter/jupyter_notebook_config.d/panel-client-jupyter.json\n",
            "    \t/usr/local/etc/jupyter/jupyter_notebook_config.json\n",
            "|DEBUG|Paths used for configuration of jupyter_notebook_config: \n",
            "    \t/usr/etc/jupyter/jupyter_notebook_config.json\n",
            "|DEBUG|Paths used for configuration of jupyter_notebook_config: \n",
            "    \t/root/.local/etc/jupyter/jupyter_notebook_config.json\n",
            "|DEBUG|Paths used for configuration of jupyter_notebook_config: \n",
            "    \t/root/.jupyter/jupyter_notebook_config.json\n",
            "\n",
            "  _   _          _      _\n",
            " | | | |_ __  __| |__ _| |_ ___\n",
            " | |_| | '_ \\/ _` / _` |  _/ -_)\n",
            "  \\___/| .__/\\__,_\\__,_|\\__\\___|\n",
            "       |_|\n",
            "                       \n",
            "Read the migration plan to Notebook 7 to learn about the new features and the actions to take if you are using extensions.\n",
            "\n",
            "https://jupyter-notebook.readthedocs.io/en/latest/migrate_to_notebook7.html\n",
            "\n",
            "Please note that updating to Notebook 7 might break some of your extensions.\n",
            "\n",
            "|INFO|google.colab serverextension initialized.\n",
            "|INFO|Loading IPython parallel extension\n",
            "|INFO|Serving notebooks from local directory: /content\n",
            "|INFO|Jupyter Notebook 6.5.5 is running at:\n",
            "|INFO|http://d00e6b558895:8888/?token=b4b13c5e7792247c0d52ff96b87e78017b1f1a2a7472151c\n",
            "|INFO| or http://127.0.0.1:8888/?token=b4b13c5e7792247c0d52ff96b87e78017b1f1a2a7472151c\n",
            "|INFO|Use Control-C to stop this server and shut down all kernels (twice to skip confirmation).\n",
            "|CRITICAL|\n",
            "    \n",
            "    To access the notebook, open this file in a browser:\n",
            "        file:///root/.local/share/jupyter/runtime/nbserver-3420-open.html\n",
            "    Or copy and paste one of these URLs:\n",
            "        http://d00e6b558895:8888/?token=b4b13c5e7792247c0d52ff96b87e78017b1f1a2a7472151c\n",
            "     or http://127.0.0.1:8888/?token=b4b13c5e7792247c0d52ff96b87e78017b1f1a2a7472151c\n",
            "|INFO|interrupted\n",
            "|CRITICAL|received signal 2, stopping\n",
            "|CRITICAL|Shutting down...\n",
            "|INFO|Shutting down 0 kernels\n",
            "|INFO|Shutting down 0 terminals\n",
            "\u001b[90m2025-01-30T17:37:55Z\u001b[0m \u001b[32mINF\u001b[0m Thank you for trying Cloudflare Tunnel. Doing so, without a Cloudflare account, is a quick way to experiment and try it out. However, be aware that these account-less Tunnels have no uptime guarantee, are subject to the Cloudflare Online Services Terms of Use (https://www.cloudflare.com/website-terms/), and Cloudflare reserves the right to investigate your use of Tunnels for violations of such terms. If you intend to use Tunnels in production you should use a pre-created named tunnel by following: https://developers.cloudflare.com/cloudflare-one/connections/connect-apps\n",
            "\u001b[90m2025-01-30T17:37:55Z\u001b[0m \u001b[32mINF\u001b[0m Requesting new quick Tunnel on trycloudflare.com...\n",
            "\u001b[90m2025-01-30T17:37:59Z\u001b[0m \u001b[32mINF\u001b[0m +--------------------------------------------------------------------------------------------+\n",
            "\u001b[90m2025-01-30T17:37:59Z\u001b[0m \u001b[32mINF\u001b[0m |  Your quick Tunnel has been created! Visit it at (it may take some time to be reachable):  |\n",
            "\u001b[90m2025-01-30T17:37:59Z\u001b[0m \u001b[32mINF\u001b[0m |  https://deferred-explicit-lloyd-rescue.trycloudflare.com                                  |\n",
            "\u001b[90m2025-01-30T17:37:59Z\u001b[0m \u001b[32mINF\u001b[0m +--------------------------------------------------------------------------------------------+\n",
            "\u001b[90m2025-01-30T17:37:59Z\u001b[0m \u001b[32mINF\u001b[0m Cannot determine default configuration path. No file [config.yml config.yaml] in [~/.cloudflared ~/.cloudflare-warp ~/cloudflare-warp /etc/cloudflared /usr/local/etc/cloudflared]\n",
            "\u001b[90m2025-01-30T17:37:59Z\u001b[0m \u001b[32mINF\u001b[0m Version 2025.1.0 (Checksum 8734f79dbdcb91e305fa48d837840c8c0d14f143ed390c516b86c2c292d9b368)\n",
            "\u001b[90m2025-01-30T17:37:59Z\u001b[0m \u001b[32mINF\u001b[0m GOOS: linux, GOVersion: go1.22.5, GoArch: amd64\n",
            "\u001b[90m2025-01-30T17:37:59Z\u001b[0m \u001b[32mINF\u001b[0m Settings: map[ha-connections:1 logfile:cloudflared.log loglevel:debug protocol:quic url:http://localhost:8888]\n",
            "\u001b[90m2025-01-30T17:37:59Z\u001b[0m \u001b[32mINF\u001b[0m cloudflared will not automatically update when run from the shell. To enable auto-updates, run cloudflared as a service: https://developers.cloudflare.com/cloudflare-one/connections/connect-apps/run-tunnel/as-a-service/\n",
            "\u001b[90m2025-01-30T17:37:59Z\u001b[0m \u001b[32mINF\u001b[0m Generated Connector ID: bdbead25-4e1f-427e-b6a7-ba487e470c0e\n",
            "\u001b[90m2025-01-30T17:37:59Z\u001b[0m \u001b[33mDBG\u001b[0m Fetched protocol: quic\n",
            "\u001b[90m2025-01-30T17:37:59Z\u001b[0m \u001b[32mINF\u001b[0m Initial protocol quic\n",
            "\u001b[90m2025-01-30T17:37:59Z\u001b[0m \u001b[32mINF\u001b[0m ICMP proxy will use 172.28.0.12 as source for IPv4\n",
            "\u001b[90m2025-01-30T17:37:59Z\u001b[0m \u001b[33mDBG\u001b[0m Failed to determine the IPv6 for this machine. It will use :: to send/listen for ICMPv6 echo\n",
            "\u001b[90m2025-01-30T17:37:59Z\u001b[0m \u001b[32mINF\u001b[0m ICMP proxy will use :: as source for IPv6\n",
            "\u001b[90m2025-01-30T17:37:59Z\u001b[0m \u001b[33mDBG\u001b[0m edge discovery: looking up edge SRV record \u001b[36mdomain=\u001b[0m_v2-origintunneld._tcp.argotunnel.com \u001b[36mevent=\u001b[0m0\n",
            "\u001b[90m2025-01-30T17:37:59Z\u001b[0m \u001b[33mDBG\u001b[0m edge discovery: resolved edge addresses \u001b[36maddresses=\u001b[0m[\"198.41.192.57\",\"198.41.192.77\",\"198.41.192.37\",\"198.41.192.27\",\"198.41.192.107\",\"198.41.192.227\",\"198.41.192.167\",\"198.41.192.47\",\"198.41.192.67\",\"198.41.192.7\",\"2606:4700:a0::2\",\"2606:4700:a0::7\",\"2606:4700:a0::5\",\"2606:4700:a0::3\",\"2606:4700:a0::8\",\"2606:4700:a0::9\",\"2606:4700:a0::6\",\"2606:4700:a0::4\",\"2606:4700:a0::1\",\"2606:4700:a0::10\"] \u001b[36mevent=\u001b[0m0\n",
            "\u001b[90m2025-01-30T17:37:59Z\u001b[0m \u001b[33mDBG\u001b[0m edge discovery: resolved edge addresses \u001b[36maddresses=\u001b[0m[\"198.41.200.73\",\"198.41.200.193\",\"198.41.200.23\",\"198.41.200.63\",\"198.41.200.13\",\"198.41.200.43\",\"198.41.200.113\",\"198.41.200.53\",\"198.41.200.233\",\"198.41.200.33\",\"2606:4700:a8::1\",\"2606:4700:a8::10\",\"2606:4700:a8::2\",\"2606:4700:a8::4\",\"2606:4700:a8::7\",\"2606:4700:a8::8\",\"2606:4700:a8::5\",\"2606:4700:a8::3\",\"2606:4700:a8::9\",\"2606:4700:a8::6\"] \u001b[36mevent=\u001b[0m0\n",
            "\u001b[90m2025-01-30T17:37:59Z\u001b[0m \u001b[32mINF\u001b[0m ICMP proxy will use 172.28.0.12 as source for IPv4\n",
            "\u001b[90m2025-01-30T17:37:59Z\u001b[0m \u001b[33mDBG\u001b[0m edge discovery: looking up edge SRV record \u001b[36mdomain=\u001b[0m_v2-origintunneld._tcp.argotunnel.com \u001b[36mevent=\u001b[0m0\n",
            "\u001b[90m2025-01-30T17:37:59Z\u001b[0m \u001b[33mDBG\u001b[0m Failed to determine the IPv6 for this machine. It will use :: to send/listen for ICMPv6 echo\n",
            "\u001b[90m2025-01-30T17:37:59Z\u001b[0m \u001b[32mINF\u001b[0m ICMP proxy will use :: as source for IPv6\n",
            "\u001b[90m2025-01-30T17:37:59Z\u001b[0m \u001b[32mINF\u001b[0m Starting metrics server on 127.0.0.1:20241/metrics\n",
            "\u001b[90m2025-01-30T17:37:59Z\u001b[0m \u001b[33mDBG\u001b[0m edge discovery: resolved edge addresses \u001b[36maddresses=\u001b[0m[\"198.41.192.107\",\"198.41.192.47\",\"198.41.192.77\",\"198.41.192.67\",\"198.41.192.7\",\"198.41.192.37\",\"198.41.192.167\",\"198.41.192.27\",\"198.41.192.57\",\"198.41.192.227\",\"2606:4700:a0::3\",\"2606:4700:a0::10\",\"2606:4700:a0::2\",\"2606:4700:a0::8\",\"2606:4700:a0::9\",\"2606:4700:a0::7\",\"2606:4700:a0::1\",\"2606:4700:a0::5\",\"2606:4700:a0::4\",\"2606:4700:a0::6\"] \u001b[36mevent=\u001b[0m0\n",
            "\u001b[90m2025-01-30T17:37:59Z\u001b[0m \u001b[33mDBG\u001b[0m edge discovery: resolved edge addresses \u001b[36maddresses=\u001b[0m[\"198.41.200.43\",\"198.41.200.23\",\"198.41.200.193\",\"198.41.200.63\",\"198.41.200.73\",\"198.41.200.113\",\"198.41.200.233\",\"198.41.200.53\",\"198.41.200.33\",\"198.41.200.13\",\"2606:4700:a8::1\",\"2606:4700:a8::10\",\"2606:4700:a8::2\",\"2606:4700:a8::4\",\"2606:4700:a8::7\",\"2606:4700:a8::8\",\"2606:4700:a8::5\",\"2606:4700:a8::3\",\"2606:4700:a8::9\",\"2606:4700:a8::6\"] \u001b[36mevent=\u001b[0m0\n",
            "\u001b[90m2025-01-30T17:37:59Z\u001b[0m \u001b[33mDBG\u001b[0m edge discovery: giving new address to connection \u001b[36mconnIndex=\u001b[0m0 \u001b[36mevent=\u001b[0m0 \u001b[36mip=\u001b[0m198.41.192.27\n",
            "2025/01/30 17:37:59 failed to sufficiently increase receive buffer size (was: 208 kiB, wanted: 7168 kiB, got: 416 kiB). See https://github.com/quic-go/quic-go/wiki/UDP-Buffer-Sizes for details.\n",
            "\u001b[90m2025-01-30T17:37:59Z\u001b[0m \u001b[33mDBG\u001b[0m Received transport parameters: MaxUDPPayloadSize=1396, MaxIdleTimeout=5s, MaxDatagramFrameSize=16383 \u001b[36mconnIndex=\u001b[0m0 \u001b[36mevent=\u001b[0m0 \u001b[36mip=\u001b[0m198.41.192.27\n",
            "\u001b[90m2025-01-30T17:37:59Z\u001b[0m \u001b[32mINF\u001b[0m Registered tunnel connection \u001b[36mconnIndex=\u001b[0m0 \u001b[36mconnection=\u001b[0m45a4c6cd-1313-4279-977b-2d397e5dc738 \u001b[36mevent=\u001b[0m0 \u001b[36mip=\u001b[0m198.41.192.27 \u001b[36mlocation=\u001b[0matl06 \u001b[36mprotocol=\u001b[0mquic\n",
            "\u001b[90m2025-01-30T17:37:59Z\u001b[0m \u001b[33mDBG\u001b[0m QUIC MTU updated to 1314 \u001b[36mconnIndex=\u001b[0m0 \u001b[36mevent=\u001b[0m0 \u001b[36mip=\u001b[0m198.41.192.27\n",
            "\u001b[90m2025-01-30T17:38:00Z\u001b[0m \u001b[33mDBG\u001b[0m QUIC MTU updated to 1355 \u001b[36mconnIndex=\u001b[0m0 \u001b[36mevent=\u001b[0m0 \u001b[36mip=\u001b[0m198.41.192.27\n",
            "\u001b[90m2025-01-30T17:38:01Z\u001b[0m \u001b[33mDBG\u001b[0m QUIC MTU updated to 1375 \u001b[36mconnIndex=\u001b[0m0 \u001b[36mevent=\u001b[0m0 \u001b[36mip=\u001b[0m198.41.192.27\n",
            "\u001b[90m2025-01-30T18:23:28Z\u001b[0m \u001b[32mINF\u001b[0m Initiating graceful shutdown due to signal interrupt ...\n",
            "\u001b[90m2025-01-30T18:23:28Z\u001b[0m \u001b[33mDBG\u001b[0m Graceful shutdown signalled\n",
            "^C\n"
          ]
        }
      ]
    },
    {
      "cell_type": "code",
      "source": [],
      "metadata": {
        "id": "Q90iDTECSKxa"
      },
      "execution_count": null,
      "outputs": []
    }
  ]
}