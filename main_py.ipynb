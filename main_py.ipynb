{
  "cells": [
    {
      "cell_type": "markdown",
      "metadata": {
        "colab_type": "text",
        "id": "view-in-github"
      },
      "source": [
        "<a href=\"https://colab.research.google.com/github/lfvidal/My-repository/blob/main/main_py.ipynb\" target=\"_parent\"><img src=\"https://colab.research.google.com/assets/colab-badge.svg\" alt=\"Open In Colab\"/></a>"
      ]
    },
    {
      "cell_type": "code",
      "execution_count": null,
      "metadata": {
        "colab": {
          "base_uri": "https://localhost:8080/"
        },
        "id": "yE8WYHUS5JK-",
        "outputId": "7ee8c776-0eb5-4ba4-b1d5-18d5e24022fd"
      },
      "outputs": [],
      "source": [
        "# iq = 190\n",
        "# user_age = iq/4\n",
        "# print(user_age)\n",
        "# print(\"me quiero follar a GABI\")\n",
        "\n",
        "# gabi_tetas = 2\n",
        "# gabi_cuerpo = gabi_tetas + 1\n",
        "# gabi_cuerpo *= 1000\n",
        "# print(gabi_cuerpo)\n",
        "\n",
        "# print(type('hi mamasota'))\n",
        "# long_string = '''\n",
        "\n",
        "# WOW\n",
        "# Gaby te quiero lamer el clitoris\n",
        "# de arriba hacia abajo y viceversa\n",
        "# '''\n",
        "# test=str(100)\n",
        "# print(test+2)\n",
        "# selfish = \"me me me\"\n",
        "#         #  01234567\n",
        "# #selfish[start:stop:stepover]\n",
        "# print(selfish[3])\n",
        "# print(selfish[0:8:3])\n",
        "# print(selfish[::3])\n",
        "# print(selfish[::-1])\n",
        "\n",
        "# print(len('helloooooooo word'))\n",
        "\n",
        "# happy = 'to be or not to be'\n",
        "# print(happy[0:len(happy)])\n",
        "# print('just '+ happy[3:5])\n",
        "\n",
        "# print(f'just {happy[3:5]} and lets fuck')\n",
        "\n",
        "# print(happy.replace(\"be\", \"me\"))\n",
        "# print(happy[3:5].upper())\n",
        "\n",
        "#booleans\n",
        "# last_name = 'Vidal'\n",
        "# relationship_status = \"single but already taken\"\n",
        "# print(bool(1))\n",
        "\n",
        "# birth_year = int(input('how old are you? '))\n",
        "# birth_month = int(input('what month were you born? '))\n",
        "# actual_year = 2025\n",
        "# actual_month = 1\n",
        "\n",
        "# if birth_month > actual_month:\n",
        "#     answer = actual_year - birth_year - 1\n",
        "# else:\n",
        "#     answer = actual_year - birth_year\n",
        "\n",
        "# print(f'Your born in: {answer}')\n",
        "\n",
        "# friends = ['Simon', 'Patty', 'Joy', 'Carrie', 'Amira', 'Chu']\n",
        "# new_friend = ['Stanley']\n",
        "\n",
        "# all_friends=sorted(friends + new_friend)\n",
        "# print(all_friends)\n",
        "\n",
        "# print(sorted(friends + new_friend)) #elegant solution\n",
        "\n",
        "# friends.extend(new_friend)\n",
        "# friends.sort()\n",
        "# print(friends)\n",
        "# Exercise Password Checker\n",
        "\n",
        "# basket = [\"Banana\", \"Apples\", \"Oranges\", \"Blueberries\"]\n",
        "# print(basket[1:4])\n",
        "# print(basket[0:3])\n",
        "# print(basket + [\"Kiwi\"])\n",
        "# print([\"Apples\"] + basket)\n",
        "# print(basket.insert(3,'Gaby') or basket)\n",
        "# print(len(basket))\n",
        "# print(basket.clear() or basket)\n",
        "\n",
        "# matrix = [\n",
        "#   [1,2,[4,5],3],\n",
        "#   [2,5,6],\n",
        "#   [7,8,9]\n",
        "# ]\n",
        "# # print(matrix[0][2][:])\n",
        "\n",
        "# basket = [1,2,3,4,5]\n",
        "# print(len(basket)) #leng=5\n",
        "# # print(matrix.append(\"Gabriela\") or matrix)\n",
        "# # print(matrix.insert(2, \"Gabriela\") or matrix)\n",
        "# matrix.extend([100,101])\n",
        "# new_list = matrix\n",
        "# print(new_list)\n",
        "\n",
        "# matrix.pop(3)\n",
        "# print(matrix.append(\"gabi\") or matrix)\n",
        "# matrix.clear\n",
        "# print(\"gabi\" in matrix)\n",
        "# print(matrix.count('g'))\n",
        "\n",
        "# matrix.sort()\n",
        "# print(matrix)\n",
        "\n",
        "# weapon = None\n",
        "# if weapon == None:\n",
        "#   print(\"you don't have a weapon\")\n",
        "\n",
        "# dic ={\n",
        "#   'a':1,\n",
        "#   'b':2,\n",
        "#   'c':3,\n",
        "#   'd':4\n",
        "# }\n",
        "# print(dic['b'])\n",
        "\n",
        "# user = {\n",
        "#   'weapon'   :\"knife\",\n",
        "#   'greeting'  :'chest',\n",
        "#   True        :3,\n",
        "#   'age'       :32\n",
        "# }\n",
        "# # print(user['weapon'])\n",
        "# # print(user.get('age'))\n",
        "# # print(user.get('sex'))\n",
        "\n",
        "# user2 = dict(name='Gaby') #no a common way to create a dictionary\n",
        "# # print(user2)\n",
        "\n",
        "# print('weapon' in user2)\n",
        "# print('chest' in user.values())\n",
        "# print('chest' in user.keys())\n",
        "# print(user.items())\n",
        "# print(user.pop('age'))\n",
        "# print(user.update({\"age\":26}) or user.pop('age'))\n",
        "\n",
        "# my_set = {1,2,3,4,5,5,3,1}\n",
        "# my_set.add(100)\n",
        "# my_set.add(2)\n",
        "# print(1 in my_set)\n",
        "\n",
        "# my_list = [1,2,3,4,5,5]\n",
        "# print(set(my_list))\n",
        "\n",
        "None\n",
        "bool\n",
        "int\n",
        "float\n",
        "#complex\n",
        "str\n",
        "list\n",
        "tuple\n",
        "dict\n",
        "set\n",
        "\n",
        "\n",
        "# my_set = {1,2,3,4,5}\n",
        "# your_set = {4,5,6,7,8,9,10}\n",
        "# print(f\"this is the difference bt sets: {my_set.difference(your_set)}\")\n",
        "# print(my_set.discard(5) or my_set)\n",
        "# print(my_set.update(your_set))\n",
        "# print(my_set.intersection(your_set)\n",
        "# print(my_set.isdisjoint(your_set) or my_set.union(your_set))\n",
        "\n",
        "# print(my_set.issubset(your_set))\n",
        "# print(my_set.issuperset(your_set))\n",
        "\n",
        "# print({4,5}.issubset(my_set))"
      ]
    },
    {
      "cell_type": "code",
      "execution_count": null,
      "metadata": {
        "colab": {
          "base_uri": "https://localhost:8080/"
        },
        "id": "RvyX3I9_z57Q",
        "outputId": "fd3b9669-2d6a-4324-8c44-2aa25017e51a"
      },
      "outputs": [],
      "source": [
        "is_old = True\n",
        "is_licence = True\n",
        "\n",
        "if is_old and is_licence:\n",
        "  print('you are old enough to drive')\n",
        "elif is_licence:\n",
        "  print('you can drive now')\n",
        "else:\n",
        "  print('you are too young')"
      ]
    },
    {
      "cell_type": "code",
      "execution_count": null,
      "metadata": {
        "colab": {
          "base_uri": "https://localhost:8080/"
        },
        "id": "dbum37hV9tb6",
        "outputId": "4b823302-1450-40ed-a40d-242abfc09946"
      },
      "outputs": [],
      "source": [
        "# condition_if_true if condition else condition_if_else\n",
        "is_friend = False\n",
        "can_message = \"message allowed\" if is_friend else \"not allowed to message\"\n",
        "print(can_message)"
      ]
    },
    {
      "cell_type": "code",
      "execution_count": null,
      "metadata": {
        "colab": {
          "base_uri": "https://localhost:8080/"
        },
        "id": "-gh2ZTpi_a4v",
        "outputId": "7eded4fc-8faa-461f-ffcd-3a71b805ce3c"
      },
      "outputs": [],
      "source": [
        "is_friend = True\n",
        "is_user = False\n",
        "\n",
        "if is_friend or is_user:\n",
        "  print('best friends forever')\n",
        "else:\n",
        "  print('not friends')"
      ]
    },
    {
      "cell_type": "code",
      "execution_count": null,
      "metadata": {
        "colab": {
          "base_uri": "https://localhost:8080/"
        },
        "id": "h7gUX6d1AN53",
        "outputId": "f494ff9d-0361-430d-811b-8e7488ae57f2"
      },
      "outputs": [],
      "source": [
        "is_magician = False\n",
        "is_expert = True\n",
        "\n",
        "if is_magician and is_expert: print(\"you are a master magician\")\n",
        "elif is_magician and not is_expert: print(\"at least you are getting there\")\n",
        "else: print(\"you need magic power\")\n"
      ]
    },
    {
      "cell_type": "code",
      "execution_count": null,
      "metadata": {
        "colab": {
          "base_uri": "https://localhost:8080/"
        },
        "id": "EvKKZh5AKffS",
        "outputId": "7583c5c7-e38e-485b-aa08-cc7b34743568"
      },
      "outputs": [],
      "source": [
        "is_magician = True\n",
        "is_expert = False\n",
        "\n",
        "print(\"you are a master magician\" if is_magician and is_expert else \"at least you are getting there\" if is_magician and not is_expert else \"you need magic power\")"
      ]
    },
    {
      "cell_type": "code",
      "execution_count": null,
      "metadata": {
        "colab": {
          "base_uri": "https://localhost:8080/"
        },
        "id": "CduC52EpYmWm",
        "outputId": "e25d6371-a70f-4997-8da6-40c047274b14"
      },
      "outputs": [],
      "source": [
        "user = {\n",
        "    'age'       : 32,\n",
        "    'username'  : 'gentleman048',\n",
        "    'weapons'   : {'banana'},\n",
        "    'is_active' : True,\n",
        "    'clan'      : 'polombia'\n",
        "}\n",
        "# print(user.items())\n",
        "print(f'Those are your starter kit: {user}\\n')\n",
        "\n",
        "answer=input(\"Do you want a new weapon? (yes/no): \")\n",
        "if answer == \"yes\":\n",
        "  new_weapon=input('Type your new weapon: ')\n",
        "  user['weapons'].add(new_weapon)\n",
        "  print('\\nUpdated user profile:\\n')\n",
        "  for key, value in user.items():\n",
        "    print(f'{key} : {value}')\n",
        "else:\n",
        "  print('No new weapon added')\n",
        "\n",
        "user.update({'is_banned': False})\n",
        "\n",
        "user['is_banned'] = False\n",
        "print(f'\\nAre you banned?: {user.get(\"is_banned\")}\\n')\n",
        "\n",
        "\n",
        "user2 = user.copy()\n",
        "user2.update({\n",
        "    'age'   : 26,\n",
        "    'username' : 'Gabi',\n",
        "    'weapons' : 'knife'\n",
        "})\n",
        "print(f'The second user started kit: {user2}\\n')\n",
        "for key,value in user2.items():\n",
        "  print(f'{key} : {value}')\n"
      ]
    },
    {
      "cell_type": "code",
      "execution_count": null,
      "metadata": {
        "colab": {
          "base_uri": "https://localhost:8080/"
        },
        "id": "nn8cLaNOc5kE",
        "outputId": "62c702fb-8982-462f-f715-6bc1498365ad"
      },
      "outputs": [],
      "source": [
        "school = {'Bobby','Tammy','Jammy','Sally','Danny'}\n",
        "attendance_list = ['Jammy', 'Bobby', 'Danny', 'Sally']\n",
        "\n",
        "print(f'Students absent: {school.difference(attendance_list)}')\n",
        "\n",
        "print(f'Students absent: {school - set(attendance_list)}')\n"
      ]
    },
    {
      "cell_type": "code",
      "execution_count": null,
      "metadata": {
        "colab": {
          "base_uri": "https://localhost:8080/"
        },
        "id": "zFR-flhjxJGV",
        "outputId": "f0ab4b1a-27b5-4eb9-a84b-51c36b628c57"
      },
      "outputs": [],
      "source": [
        "my_list = [1, 2, 3, 4, 5, 6, 7, 8, 9, 10]\n",
        "counter = 0\n",
        "for item in my_list:\n",
        "    counter += item\n",
        "\n",
        "print(counter)"
      ]
    },
    {
      "cell_type": "code",
      "execution_count": null,
      "metadata": {
        "id": "A5CkRODyxTUZ"
      },
      "outputs": [],
      "source": [
        "for item in (1,2,3,4,5):\n",
        "  for x in ['a','b','c']:\n",
        "    print(item, 'x')"
      ]
    },
    {
      "cell_type": "code",
      "execution_count": null,
      "metadata": {
        "colab": {
          "base_uri": "https://localhost:8080/"
        },
        "id": "ObU5BEKNQWn2",
        "outputId": "dbe99e9c-eea8-427a-a8c6-c2c4b164203b"
      },
      "outputs": [],
      "source": [
        "user = {\n",
        "    'name': 'Gaby',\n",
        "    'age': 26,\n",
        "    'can_swim': False\n",
        "}\n",
        "for key, value in user.items():\n",
        "  print(f'{key} : {value}\\n')\n",
        "f'{item}\\n'\n",
        "for item in user.values():\n",
        "  print(item)\n",
        "print('\\n')\n",
        "\n",
        "for item in user.keys():\n",
        "  print(item)\n",
        "print('\\n')"
      ]
    },
    {
      "cell_type": "code",
      "execution_count": null,
      "metadata": {
        "colab": {
          "base_uri": "https://localhost:8080/"
        },
        "id": "pWwbzEZeSAMm",
        "outputId": "b2c0eea5-d66a-474e-b531-ec7d76a72078"
      },
      "outputs": [],
      "source": [
        "my_list = [1,2,3,4,5,6,7,8,9,10]\n",
        "# sum(my_list)\n",
        "\n",
        "counter = 0\n",
        "for item in my_list:\n",
        "  counter = counter + item\n",
        "print(counter)"
      ]
    },
    {
      "cell_type": "code",
      "execution_count": null,
      "metadata": {
        "colab": {
          "base_uri": "https://localhost:8080/"
        },
        "id": "8FDk8hcsVHJw",
        "outputId": "abdfd798-6c1c-4173-fff8-5d387cdcb6e7"
      },
      "outputs": [],
      "source": [
        "for item in range(10, 20, 2):\n",
        "  print(list(range(10)))"
      ]
    },
    {
      "cell_type": "code",
      "execution_count": null,
      "metadata": {
        "colab": {
          "base_uri": "https://localhost:8080/"
        },
        "id": "xIUCMOHPW8eT",
        "outputId": "cb1866a3-fc62-4a2c-a0a4-939db074895d"
      },
      "outputs": [],
      "source": [
        "# for char in enumerate('hellooo'):\n",
        "#   print(char)\n",
        "# for i, char in enumerate(range(0,50,2)):\n",
        "#   print(i, char)\n",
        "for i, char in enumerate(range(0,50,2)):\n",
        "  if char == 24:\n",
        "    print(f'index of {char} is: {i}')"
      ]
    },
    {
      "cell_type": "code",
      "execution_count": null,
      "metadata": {
        "id": "w4WWNkW4XVPN"
      },
      "outputs": [],
      "source": [
        "i=0\n",
        "while i<50:\n",
        "  print(i)\n",
        "  i+=1\n",
        "else:\n",
        "  print('done')\n"
      ]
    },
    {
      "cell_type": "code",
      "execution_count": null,
      "metadata": {
        "colab": {
          "base_uri": "https://localhost:8080/"
        },
        "id": "HVmloVQ4gAaG",
        "outputId": "f7100369-ea86-49f5-a421-b9ed638076b1"
      },
      "outputs": [],
      "source": [
        "my_list = [1,2,3]\n",
        "for item in my_list:\n",
        "  print(item)\n",
        "\n",
        "print('\\n')\n",
        "\n",
        "i = 0\n",
        "while i < len(my_list):\n",
        "  print(my_list[i])\n",
        "  i += 1"
      ]
    },
    {
      "cell_type": "code",
      "execution_count": null,
      "metadata": {
        "colab": {
          "base_uri": "https://localhost:8080/"
        },
        "id": "admkiYp4nqA7",
        "outputId": "6b85790e-3681-4ec6-f05d-669a71b160df"
      },
      "outputs": [],
      "source": [
        "picture = [\n",
        "  [0,0,0,0,1,0,0,0,0],\n",
        "  [0,0,1,1,1,1,1,0,0],\n",
        "  [1,1,1,1,1,1,1,1,1],\n",
        "  [0,0,0,0,1,0,0,0,0],\n",
        "  [0,0,1,0,1,0,0,0,0],\n",
        "  [0,0,0,1,0,0,0,0,0]\n",
        "]\n",
        "\n",
        "def show_umbrella():\n",
        "  for row in picture:\n",
        "    initialization = ''\n",
        "    for value in row:\n",
        "      if value == 1:\n",
        "        initialization += '*'\n",
        "      else:\n",
        "        initialization += ' '\n",
        "    print(initialization)\n",
        "\n",
        "show_umbrella()\n",
        "print('\\n')\n",
        "\n",
        "for row in picture:\n",
        "  for value in row:\n",
        "   print(f'{\"*\" if value==1 else \" \"}', end='')\n",
        "  print('')\n",
        "\n",
        "print('\\n')\n",
        "\n",
        "for row in picture:\n",
        "  for value in row:\n",
        "    if value == 1:\n",
        "      print('*', end='')\n",
        "    else:\n",
        "      print(' ', end='')\n",
        "  print('')"
      ]
    },
    {
      "cell_type": "code",
      "execution_count": null,
      "metadata": {
        "colab": {
          "base_uri": "https://localhost:8080/"
        },
        "id": "EV-8ljfvVgVR",
        "outputId": "00e210b7-6c56-4764-9f8a-14fa64e7eef6"
      },
      "outputs": [],
      "source": [
        "some_list = ['a','b','c','b','d','m','n','n']\n",
        "duplicates = []\n",
        "for value in some_list:\n",
        "  if some_list.count(value)>1:\n",
        "    if value not in duplicates:\n",
        "      duplicates.append(value)\n",
        "print(duplicates)\n",
        "\n",
        "duplicates = set() #set no almacena eduplciados\n",
        "seen = set()\n",
        "for char in some_list: #char=character\n",
        "  if char in seen:\n",
        "    duplicates.add(char)\n",
        "  else:\n",
        "    seen.add(char)\n",
        "print(duplicates)\n",
        "\n"
      ]
    },
    {
      "cell_type": "code",
      "execution_count": null,
      "metadata": {
        "colab": {
          "base_uri": "https://localhost:8080/"
        },
        "id": "oWyyJtv5z-cz",
        "outputId": "2d0b7ecd-d0d0-461d-d300-974ef544e322"
      },
      "outputs": [],
      "source": [
        "from os import name\n",
        "# DRY\n",
        "name = \"Gaby\"\n",
        "emoji = \"❤️\"\n",
        "\n",
        "\n",
        "def say_hello(name='No_name', emoji=\"_\"):\n",
        "  print(f'Hi mi {name} hermosa {emoji}')\n",
        "\n",
        "say_hello(name, emoji)\n",
        "say_hello('gabriela','<3')\n",
        "say_hello()\n"
      ]
    },
    {
      "cell_type": "code",
      "execution_count": null,
      "metadata": {
        "colab": {
          "base_uri": "https://localhost:8080/"
        },
        "id": "Aoarn2-2mxFX",
        "outputId": "8f0c4150-42a8-43ab-8f33-b9b1aa1b8012"
      },
      "outputs": [],
      "source": [
        "def sum(num1, num2):\n",
        "  print(f'La suma es: {num1 + num2}')\n",
        "  return num1 + num2\n",
        "\n",
        "total = sum(10,5)"
      ]
    },
    {
      "cell_type": "code",
      "execution_count": null,
      "metadata": {
        "colab": {
          "base_uri": "https://localhost:8080/"
        },
        "id": "4qwYBPHfoPvo",
        "outputId": "a55db321-cbb2-4b1b-8298-2a06a03a365f"
      },
      "outputs": [],
      "source": [
        "def checkDriverAge(age=0):\n",
        "    # age = input(\"What is your age?: \")\n",
        "    if int(age) < 18:\n",
        "        print(\"Sorry, you are too young to drive this car. Powering off\")\n",
        "    elif int(age) > 18:\n",
        "        print(\"Powering On. Enjoy the ride!\");\n",
        "    elif int(age) == 18:\n",
        "        print(\"Congratulations on your first year of driving. Enjoy the ride!\")\n",
        "checkDriverAge(23)\n",
        "checkDriverAge(10)"
      ]
    },
    {
      "cell_type": "code",
      "execution_count": null,
      "metadata": {
        "colab": {
          "base_uri": "https://localhost:8080/",
          "height": 35
        },
        "id": "-JrgvotluL6i",
        "outputId": "f75ea02f-91b5-4a6c-d9df-aba7451cf5e8"
      },
      "outputs": [],
      "source": [
        "#Methods vs Functions\n",
        "# list()\n",
        "# print()\n",
        "# max()\n",
        "# min()\n",
        "# input()\n",
        "\n",
        "def some_radom_stuff():\n",
        "  pass\n",
        "\n",
        "some_radom_stuff()\n",
        "\n",
        "'hellloooo'.capitalize()"
      ]
    },
    {
      "cell_type": "code",
      "execution_count": null,
      "metadata": {
        "colab": {
          "base_uri": "https://localhost:8080/"
        },
        "id": "LmaZNHyBvQTl",
        "outputId": "0864d6e5-02b1-421c-b820-7f657ca9c13b"
      },
      "outputs": [],
      "source": [
        "def test(a):\n",
        "  '''\n",
        "  Info: This function tests and prints param a\n",
        "  '''\n",
        "  print(a)\n",
        "\n",
        "test('test')\n",
        "help(test)\n",
        "\n",
        "print(test.__doc__)"
      ]
    },
    {
      "cell_type": "code",
      "execution_count": null,
      "metadata": {
        "colab": {
          "base_uri": "https://localhost:8080/"
        },
        "id": "UlFo8-lyw9wk",
        "outputId": "86cd6911-fab7-407a-bd4a-7c472821302b"
      },
      "outputs": [],
      "source": [
        "#clean code\n",
        "def is_odd_or_even(num): #es_par_o_impar\n",
        "  return num % 2 == 0\n",
        "\n",
        "\n",
        "print(is_odd_or_even(51))\n",
        "print(is_odd_or_even(50))\n"
      ]
    },
    {
      "cell_type": "code",
      "execution_count": null,
      "metadata": {
        "colab": {
          "base_uri": "https://localhost:8080/"
        },
        "id": "7hqZOBEW0E5l",
        "outputId": "ff2a6b59-82f4-4576-fac5-56de0388241d"
      },
      "outputs": [],
      "source": [
        "# *args *kwargs\n",
        "def super_func(*args, **kwargs):\n",
        "  # print(kwargs)\n",
        "  return sum(args) + sum(kwargs.values())\n",
        "\n",
        "print(super_func(1,2,3,4,5, num1=5, num2=10))\n",
        "\n",
        "# Alternative 2\n",
        "def super_func(*args, **kwargs):\n",
        "  total = 0\n",
        "  for items in kwargs.values():\n",
        "    total += items\n",
        "  return sum(args) + total\n",
        "\n",
        "print(super_func(1,2,3,4,5, num1=5, num2=10))\n",
        "\n",
        "#Rule: params, *args, deafault paramters, **kwargs\n",
        "def super_func(name, *args, i='hi', **kwargs):\n",
        "  total = 0\n",
        "  for items in kwargs.values():\n",
        "    total += items\n",
        "  return sum(args) + total\n",
        "\n",
        "print(super_func('Andy', 1,2,3,4,5, num1=5, num2=10))"
      ]
    },
    {
      "cell_type": "code",
      "execution_count": null,
      "metadata": {
        "colab": {
          "base_uri": "https://localhost:8080/"
        },
        "id": "lT4aVCyQ4yeD",
        "outputId": "756b1535-ef10-48a6-b94f-4615a9f11a2a"
      },
      "outputs": [],
      "source": [
        "def highest_even(lista):\n",
        "  even = []\n",
        "  for item in lista:\n",
        "    if item % 2 == 0:\n",
        "      even.append(item)\n",
        "  return max(even)\n",
        "\n",
        "print(highest_even([2,10,2,3,4,8,11]))\n",
        "\n",
        "#elegant alternative\n",
        "\n",
        "def highest_even(lista):\n",
        "  return max(item for item in lista if item % 2 == 0)\n",
        "\n",
        "print(highest_even([10,2,3,4,8,11]))"
      ]
    },
    {
      "cell_type": "code",
      "execution_count": null,
      "metadata": {
        "colab": {
          "base_uri": "https://localhost:8080/"
        },
        "id": "FjOmhay9-ZlI",
        "outputId": "3bd7355f-3e2a-48b6-a362-66c28c68c0bd"
      },
      "outputs": [],
      "source": [
        "a = \"gabrielaaaa\"\n",
        "\n",
        "if (len(a)>10):\n",
        "  print(f'too long {len(a)} elements')\n",
        "else:\n",
        "  print(f'right {len(a)} elements')\n",
        "\n",
        "# alternative with := to assing values to variables\n",
        "if ((n := len(a))>10):\n",
        "  print(f'too long {n} elements')\n",
        "else:\n",
        "  print(f'right {n} elements')\n",
        "\n",
        "if ((n := len(a))>10):\n",
        "  print(f'too long {n} elements')\n",
        "\n",
        "while ((n := len(a))>2):\n",
        "  print(n)\n",
        "  a = a[:-1]\n",
        "\n",
        "print(a)"
      ]
    },
    {
      "cell_type": "code",
      "execution_count": null,
      "metadata": {
        "colab": {
          "base_uri": "https://localhost:8080/",
          "height": 108
        },
        "id": "hHejDsVNPRKo",
        "outputId": "c602da50-416a-4157-be60-4f674cd5aa0b"
      },
      "outputs": [],
      "source": [
        "total =1*4\n",
        "\n",
        "\n",
        "def some_func(total):\n",
        "\n",
        "  total += 100\n",
        "  return total\n",
        "\n",
        "\n",
        "print(f'total is {some_func(some_func(total))}')\n",
        "print(f'total is {some_func(5)}')\n"
      ]
    },
    {
      "cell_type": "code",
      "execution_count": null,
      "metadata": {
        "colab": {
          "base_uri": "https://localhost:8080/"
        },
        "id": "PeA9DoEqbKVe",
        "outputId": "fbdd2779-9b8e-4ccf-fd40-f5e1c9d311af"
      },
      "outputs": [],
      "source": [
        "tuple\n",
        "dictionary\n",
        "set\n",
        "list"
      ]
    },
    {
      "cell_type": "code",
      "execution_count": null,
      "metadata": {
        "colab": {
          "base_uri": "https://localhost:8080/"
        },
        "id": "82yUpN9t2N-s",
        "outputId": "ccee8131-46df-48cd-dd8a-ffe1226968a6"
      },
      "outputs": [],
      "source": [
        "#OOP\n",
        "\n",
        "class BigObject: #class\n",
        "  #code\n",
        "    pass\n",
        "\n",
        "obj1 = BigObject() #object or Instantiate\n",
        "obj2 = BigObject() #object or Instantiate\n",
        "obj3 = BigObject() #object or Instantiate\n",
        "\n",
        "print(type(None))\n",
        "print(type(True))\n",
        "print(type(5))\n",
        "print(type(5.5))\n",
        "print(type('hi'))\n",
        "print(type([]))\n",
        "print(type(()))\n",
        "print(type({}))\n",
        "print(type(obj1))\n"
      ]
    },
    {
      "cell_type": "code",
      "execution_count": null,
      "metadata": {
        "colab": {
          "base_uri": "https://localhost:8080/"
        },
        "id": "8bYpkCHw7ZuO",
        "outputId": "863e4a84-ce00-432f-9e79-48d6a26288fd"
      },
      "outputs": [],
      "source": [
        "class PlayerCharacter:\n",
        "  def __init__(self, name, age):\n",
        "    self.name = name\n",
        "    self.age = age\n",
        "\n",
        "  def run(self):\n",
        "    print('run')\n",
        "    return f'Is done: {self.name} is running like a crazy'\n",
        "\n",
        "  def jump(self):\n",
        "    return f'Is done: {self.name} is jumping on {player1.name}'\n",
        "\n",
        "player1 = PlayerCharacter('Gabi Pietras',26)\n",
        "player2 = PlayerCharacter('Fernando',32)\n",
        "player3 = PlayerCharacter('Vika',28)\n",
        "\n",
        "print(player1.name)\n",
        "print(player2.name)\n",
        "print(player1.age)\n",
        "print(player2.age)\n",
        "print(player1.run())\n",
        "print(player2.jump())\n"
      ]
    },
    {
      "cell_type": "code",
      "execution_count": null,
      "metadata": {
        "id": "e3z6fwRkAxJO"
      },
      "outputs": [],
      "source": [
        "# Inheritance & Polymorphism\n",
        "\n",
        "# Parent class (Base class)\n",
        "class User:  \n",
        "    def sign_in(self):  \n",
        "        \"\"\"Simulates user login\"\"\"\n",
        "        print('logged in')\n",
        "\n",
        "# Child class (Derived class) - Inherits from User\n",
        "class Wizard(User):  \n",
        "    def __init__(self, name, power):\n",
        "        \"\"\"Initializes Wizard with a name and power level\"\"\"\n",
        "        self.name = name\n",
        "        self.power = power\n",
        "\n",
        "    def attack(self):\n",
        "        \"\"\"Defines the attack method for the Wizard\"\"\"\n",
        "        print(f'{self.name} the Wizard is attacking with power of {self.power}')\n",
        "\n",
        "# Another Child class (Derived class) - Also inherits from User\n",
        "class Archer(User):  \n",
        "    def __init__(self, name, arrows):\n",
        "        \"\"\"Initializes Archer with a name and number of arrows\"\"\"\n",
        "        self.name = name\n",
        "        self.arrows = arrows\n",
        "\n",
        "    def attack(self):\n",
        "        \"\"\"Defines the attack method for the Archer\"\"\"\n",
        "        print(f'{self.name} the Archer is attacking with arrows: arrows left - {self.arrows}')    \n",
        "\n",
        "# Creating instances of Wizard and Archer\n",
        "wizard1 = Wizard('Fernando', 50)\n",
        "archer1 = Archer('Gabi', 100)\n",
        "\n",
        "# Using the inherited method from User class\n",
        "wizard1.sign_in()  # Output: logged in\n",
        "\n",
        "# Calling specific attack methods of each class\n",
        "wizard1.attack()   # Output: Fernando the Wizard is attacking with power of 50\n",
        "archer1.attack()   # Output: Gabi the Archer is attacking with arrows: arrows left - 100\n",
        "\n",
        "# Checking relationships between objects and classes\n",
        "print(isinstance(wizard1, User))  # True - wizard1 is an instance of User due to inheritance\n",
        "print(isinstance(wizard1, object))  # True - All Python classes inherit from 'object' class\n",
        "\n",
        "# Checking class inheritance (subclass relationships)\n",
        "print(issubclass(Wizard, User))  # True - Wizard is a subclass of User\n",
        "print(issubclass(Archer, User))  # True - Archer is a subclass of User\n",
        "print(issubclass(Wizard, object))  # True - Wizard (like all classes) inherits from 'object'\n",
        "\n",
        "# Demonstrating polymorphism: a function that accepts different object types\n",
        "def player_attack(char):\n",
        "    \"\"\"Calls the attack method of any character passed (Wizard or Archer)\"\"\"\n",
        "    char.attack()\n",
        "\n",
        "# Using polymorphism with different character types\n",
        "player_attack(wizard1)  # Calls Wizard's attack method\n",
        "player_attack(archer1)  # Calls Archer's attack method\n",
        "\n",
        "# Using a loop to call attack method on different characters\n",
        "for char in [wizard1, archer1]:\n",
        "    char.attack()  # Calls respective attack methods for each instance"
      ]
    },
    {
      "cell_type": "code",
      "execution_count": null,
      "metadata": {},
      "outputs": [],
      "source": [
        "#lambda expressions\n",
        "\n",
        "from functools import reduce\n",
        "\n",
        "# lambda param: funct(param)\n",
        "\n",
        "my_list = [1, 2, 3, 4, 5, 6, 7, 8, 9, 10]\n",
        "\n",
        "print(list(map(lambda item: item*2, my_list))) \n",
        "print(list(filter(lambda item: item % 2 != 0, my_list)))\n",
        "print(reduce(lambda acc, item: acc + item, my_list, 2))\n",
        "print(my_list)"
      ]
    },
    {
      "cell_type": "code",
      "execution_count": null,
      "metadata": {},
      "outputs": [],
      "source": [
        "my_list = [1, 2, 3, 4, 5, 6, 7, 8, 9, 10]\n",
        "\n",
        "print(list(map(lambda x: x**2, my_list)))\n",
        "\n",
        "#list sorting\n",
        "a = [(0,2), (4,3), (9,9), (10,-1)]\n",
        "\n",
        "print(sorted(a, key=lambda x: x[1]))\n",
        "# print(sorted(a, key=lambda x: x[0]))\n",
        "\n",
        "a.sort(key=lambda x: x[1])\n",
        "print(a)"
      ]
    },
    {
      "cell_type": "code",
      "execution_count": null,
      "metadata": {},
      "outputs": [],
      "source": [
        "#list, set, dictionary\n",
        "\n",
        "# my_list = [param for param for 'iterable']\n",
        "my_list = [char for char in 'Gabi te amo']\n",
        "my_list2 = [num*5 for num in range(0, 10)]\n",
        "my_list3 = [num**2 for num in range(0, 10)]\n",
        "my_list4 = [num**2 for num in range(0, 10) if num % 2 == 0] \n",
        "\n",
        "print(my_list)\n",
        "print(my_list2)\n",
        "print(my_list3)\n",
        "print(my_list4)\n",
        "print(reduce(lambda x, item: x + item, (my_list2, my_list3, my_list4)))"
      ]
    },
    {
      "cell_type": "code",
      "execution_count": null,
      "metadata": {},
      "outputs": [],
      "source": [
        "simple_dict = {\n",
        "    'a':1,\n",
        "    'b':2\n",
        "    }\n",
        "\n",
        "my_dict = {key:value**2 for key,value in simple_dict.items() if value % 2 == 0}\n",
        "\n",
        "print(my_dict)"
      ]
    },
    {
      "cell_type": "code",
      "execution_count": 5,
      "metadata": {},
      "outputs": [
        {
          "name": "stdout",
          "output_type": "stream",
          "text": [
            "['b', 'n']\n",
            "['b', 'b', 'n', 'n']\n",
            "['b', 'n']\n"
          ]
        }
      ],
      "source": [
        "some_list = ['a','b','c','b','d','m','n','n']\n",
        "\n",
        "duplicates = list(set([x for x in some_list if some_list.count(x) > 1]))\n",
        "print(duplicates)\n",
        "\n",
        "#step by step\n",
        "print(list(x for x in some_list if some_list.count(x) > 1))\n",
        "print(list(set(x for x in some_list if some_list.count(x) > 1)))\n"
      ]
    },
    {
      "cell_type": "code",
      "execution_count": 18,
      "metadata": {},
      "outputs": [
        {
          "name": "stdout",
          "output_type": "stream",
          "text": [
            "( )======D =>--|-o)\n",
            "hello\n",
            "( )======D =>--|-o)\n",
            "( )======D =>--|-o)\n",
            "hiiii :)\n",
            "( )======D =>--|-o)\n"
          ]
        }
      ],
      "source": [
        "#Decorators\n",
        "\n",
        "def my_decorator(func):\n",
        "    def wrap_func(*args, **kwargs):\n",
        "        print('( )======D =>--|-o)')\n",
        "        func(*args, **kwargs)\n",
        "        print('( )======D =>--|-o)')\n",
        "    return wrap_func\n",
        "\n",
        "@my_decorator\n",
        "def hello():\n",
        "    print('hello')\n",
        "hello()\n",
        "\n",
        "@my_decorator\n",
        "def hello(greeting, emoji=':)'):\n",
        "    print(greeting, emoji)\n",
        "\n",
        "hello('hiiii')  \n"
      ]
    },
    {
      "cell_type": "code",
      "execution_count": 33,
      "metadata": {},
      "outputs": [
        {
          "name": "stdout",
          "output_type": "stream",
          "text": [
            "took 0.28128886222839355 seconds\n"
          ]
        }
      ],
      "source": [
        "#decorators\n",
        "from time import time\n",
        "def performance(fn):\n",
        "    def wrapper(*args, **kwargs):\n",
        "        t1 = time()\n",
        "        result = fn(*args, **kwargs)\n",
        "        t2 = time()\n",
        "        print(f'took {t2-t1} seconds')\n",
        "        return result\n",
        "    return wrapper\n",
        "\n",
        "\n",
        "@performance\n",
        "def long_time():\n",
        "    for i in range(10000000):\n",
        "        i*5\n",
        "\n",
        "long_time()"
      ]
    },
    {
      "cell_type": "code",
      "execution_count": 55,
      "metadata": {},
      "outputs": [
        {
          "name": "stdout",
          "output_type": "stream",
          "text": [
            "message has been sent\n",
            "=======\n"
          ]
        }
      ],
      "source": [
        "#Create an @authenticated decorator that only allows the function to run is user1 has 'valid' set to True:\n",
        "user1 = {\n",
        "  'name': 'Sorna',\n",
        "  'valid': True #changing this will either run or not run the message_friends function.\n",
        "}\n",
        "\n",
        "def authenticated(fn):\n",
        "  def wrap_func(*args, **kwargs):\n",
        "    if args[0]['valid']:\n",
        "      fn(*args, **kwargs)\n",
        "      print('=======')\n",
        "    else:\n",
        "      return print('not allowed to send the message')\n",
        "  return wrap_func\n",
        "  \n",
        "@authenticated\n",
        "def message_friends(user):\n",
        "    print('message has been sent')\n",
        "\n",
        "message_friends(user1)"
      ]
    }
  ],
  "metadata": {
    "colab": {
      "authorship_tag": "ABX9TyM9hvLczQ2f8oMSzE+RtizO",
      "include_colab_link": true,
      "provenance": []
    },
    "kernelspec": {
      "display_name": "Python 3",
      "language": "python",
      "name": "python3"
    },
    "language_info": {
      "codemirror_mode": {
        "name": "ipython",
        "version": 3
      },
      "file_extension": ".py",
      "mimetype": "text/x-python",
      "name": "python",
      "nbconvert_exporter": "python",
      "pygments_lexer": "ipython3",
      "version": "3.13.1"
    }
  },
  "nbformat": 4,
  "nbformat_minor": 0
}
