{
 "cells": [
  {
   "cell_type": "code",
   "execution_count": 6,
   "metadata": {},
   "outputs": [
    {
     "name": "stdout",
     "output_type": "stream",
     "text": [
      "<class 'NoneType'>\n",
      "<class 'bool'>\n",
      "<class 'int'>\n",
      "<class 'float'>\n",
      "<class 'str'>\n",
      "<class 'list'>\n",
      "<class 'tuple'>\n",
      "<class 'dict'>\n",
      "<class '__main__.BigObject'>\n"
     ]
    }
   ],
   "source": [
    "\"\"\"\n",
    "This notebook demonstrates how to create a basic class in Python and work with object types.\n",
    "\"\"\"\n",
    "\n",
    "\n",
    "class BigObject:\n",
    "    \"\"\"\n",
    "    This is a empty class created as an example to demonstrate the structure of a class in Python.\n",
    "    \"\"\"\n",
    "\n",
    "    pass\n",
    "\n",
    "\n",
    "# create instances of the class\n",
    "obj1 = BigObject()  # object or Instantiate\n",
    "obj2 = BigObject()  # object or Instantiate\n",
    "obj3 = BigObject()  # object or Instantiate\n",
    "\n",
    "# Demonstrate the type of the object\n",
    "print(type(None))\n",
    "print(type(True))\n",
    "print(type(5))\n",
    "print(type(5.5))\n",
    "print(type(\"hi\"))\n",
    "print(type([]))\n",
    "print(type(()))\n",
    "print(type({}))\n",
    "print(type(obj1))\n"
   ]
  },
  {
   "cell_type": "code",
   "execution_count": 7,
   "metadata": {},
   "outputs": [],
   "source": [
    "class PlayerCharacter:\n",
    "    \"\"\"\n",
    "    This is a class created to demonstrate the structure of a class in Python.\n",
    "    \"\"\"\n",
    "\n",
    "    # class object attribute\n",
    "    membership = True\n",
    "\n",
    "    def __init__(self, name, age):\n",
    "        \"\"\"\n",
    "        This is a constructor method that is called when an object is created.\n",
    "        \"\"\"\n",
    "        if self.membership:\n",
    "            self.name = name  # attributes\n",
    "            self.age = age  # attributes\n",
    "\n",
    "    def run(self):\n",
    "        \"\"\"\n",
    "        This is a method that is defined in the class.\n",
    "        \"\"\"\n",
    "        print(\"run\")\n",
    "        return \"done\"\n",
    "\n",
    "player1 = PlayerCharacter(\"Tom\", 20)\n",
    "player2 = PlayerCharacter(\"Cindy\", 30)\n"
   ]
  },
  {
   "cell_type": "markdown",
   "metadata": {},
   "source": []
  },
  {
   "cell_type": "code",
   "execution_count": 8,
   "metadata": {},
   "outputs": [
    {
     "name": "stdout",
     "output_type": "stream",
     "text": [
      "[2, 4, 6]\n",
      "[1, 2, 3]\n"
     ]
    }
   ],
   "source": [
    "#lambda expressions\n",
    "\n",
    "from functools import reduce\n",
    "\n",
    "# lambda param: funct(param)\n",
    "\n",
    "my_list = [1, 2, 3]\n",
    "\n",
    "def only_odd(item):\n",
    "    return item % 2 != 0\n",
    "\n",
    "def accumulator(acc, item):\n",
    "    print(acc, item)\n",
    "    return acc + item\n",
    "\n",
    "print(list(map(lambda item: item*2, my_list))) \n",
    "print(my_list)"
   ]
  }
 ],
 "metadata": {
  "kernelspec": {
   "display_name": "Python 3",
   "language": "python",
   "name": "python3"
  },
  "language_info": {
   "codemirror_mode": {
    "name": "ipython",
    "version": 3
   },
   "file_extension": ".py",
   "mimetype": "text/x-python",
   "name": "python",
   "nbconvert_exporter": "python",
   "pygments_lexer": "ipython3",
   "version": "3.13.1"
  }
 },
 "nbformat": 4,
 "nbformat_minor": 2
}
